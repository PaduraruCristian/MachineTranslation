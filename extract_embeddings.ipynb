{
 "cells": [
  {
   "cell_type": "code",
   "execution_count": 1,
   "metadata": {},
   "outputs": [],
   "source": [
    "import pandas as pd\n",
    "import numpy as np\n",
    "import torch\n",
    "from transformers import AutoModel, AutoTokenizer\n",
    "import utils\n",
    "import os"
   ]
  },
  {
   "cell_type": "code",
   "execution_count": 2,
   "metadata": {},
   "outputs": [],
   "source": [
    "model_name = \"setu4993/LEALLA-large\"\n",
    "model = AutoModel.from_pretrained(model_name)\n",
    "tokenizer = AutoTokenizer.from_pretrained(model_name)"
   ]
  },
  {
   "cell_type": "code",
   "execution_count": 6,
   "metadata": {},
   "outputs": [
    {
     "name": "stdout",
     "output_type": "stream",
     "text": [
      "eng\n",
      "(2768, 256)\n",
      "(116, 256)\n",
      "deu\n",
      "(2603, 256)\n",
      "(200, 256)\n",
      "esp\n",
      "(1996, 256)\n",
      "(184, 256)\n",
      "ron\n",
      "(1241, 256)\n",
      "(123, 256)\n",
      "ukr\n",
      "(2466, 256)\n",
      "(249, 256)\n",
      "hin\n",
      "(2556, 256)\n",
      "(100, 256)\n"
     ]
    }
   ],
   "source": [
    "for lang in ['eng', 'deu', 'esp', 'ron', 'ukr', 'hin']:\n",
    "    data_df = pd.read_csv(f'./data/track_a/train/{lang}.csv')\n",
    "    cls_tokens, embeddings = utils.get_all_hidden_cls(model, tokenizer, device='cuda', texts=data_df.text.to_list())\n",
    "\n",
    "    path = f'./embeddings/{model_name.split(\"/\")[-1].lower()}/{lang}/'\n",
    "    os.makedirs(path, exist_ok=True)\n",
    "    \n",
    "    for layer in range(1, len(cls_tokens)):\n",
    "        layer_path = path + 'train_' + str(layer) + '.npy'\n",
    "        np.save(layer_path, cls_tokens[layer])\n",
    "\n",
    "    np.save(path + 'train.npy', embeddings)\n",
    "    print(lang)\n",
    "    print(embeddings.shape)\n",
    "\n",
    "    data_df = pd.read_csv(f'./data/track_c/dev/{lang}.csv')\n",
    "    _, embeddings = utils.get_all_hidden_cls(model, tokenizer, device='cuda', texts=data_df.text.to_list())\n",
    "    np.save(path + 'dev.npy', embeddings)\n",
    "    print(embeddings.shape)"
   ]
  },
  {
   "cell_type": "code",
   "execution_count": 16,
   "metadata": {},
   "outputs": [],
   "source": [
    "## make dataset splits (train + val)\n",
    "LANGS = ['eng', 'deu', 'esp']"
   ]
  },
  {
   "cell_type": "code",
   "execution_count": 33,
   "metadata": {},
   "outputs": [
    {
     "name": "stdout",
     "output_type": "stream",
     "text": [
      "eng\n",
      "\t anger\n",
      "\t [2435  333]\n",
      "\t fear\n",
      "\t [1157 1611]\n",
      "\t joy\n",
      "\t [2094  674]\n",
      "\t sadness\n",
      "\t [1890  878]\n",
      "\t surprise\n",
      "\t [1929  839]\n",
      "  val split\n",
      "\t anger\n",
      "\t [378  38]\n",
      "\t fear\n",
      "\t [163 253]\n",
      "\t joy\n",
      "\t [303 113]\n",
      "\t sadness\n",
      "\t [279 137]\n",
      "\t surprise\n",
      "\t [274 142]\n",
      "deu\n",
      "\t anger\n",
      "\t [1835  768]\n",
      "\t disgust\n",
      "\t [1771  832]\n",
      "\t fear\n",
      "\t [2364  239]\n",
      "\t joy\n",
      "\t [2062  541]\n",
      "\t sadness\n",
      "\t [2087  516]\n",
      "\t surprise\n",
      "\t [2444  159]\n",
      "  val split\n",
      "\t anger\n",
      "\t [260 131]\n",
      "\t disgust\n",
      "\t [261 130]\n",
      "\t fear\n",
      "\t [360  31]\n",
      "\t joy\n",
      "\t [315  76]\n",
      "\t sadness\n",
      "\t [306  85]\n",
      "\t surprise\n",
      "\t [370  21]\n",
      "esp\n",
      "\t anger\n",
      "\t [1504  492]\n",
      "\t disgust\n",
      "\t [1342  654]\n",
      "\t fear\n",
      "\t [1679  317]\n",
      "\t joy\n",
      "\t [1354  642]\n",
      "\t sadness\n",
      "\t [1687  309]\n",
      "\t surprise\n",
      "\t [1575  421]\n",
      "  val split\n",
      "\t anger\n",
      "\t [223  77]\n",
      "\t disgust\n",
      "\t [207  93]\n",
      "\t fear\n",
      "\t [249  51]\n",
      "\t joy\n",
      "\t [202  98]\n",
      "\t sadness\n",
      "\t [250  50]\n",
      "\t surprise\n",
      "\t [234  66]\n"
     ]
    }
   ],
   "source": [
    "from sklearn.model_selection import train_test_split\n",
    "\n",
    "for lang in LANGS:\n",
    "    data_df = pd.read_csv(f'./data/track_a/train/{lang}.csv')\n",
    "    print(lang)\n",
    "    for c in data_df.columns:\n",
    "        if c != 'id' and c != 'text':\n",
    "            print('\\t', c)\n",
    "            print('\\t', np.unique(data_df[c], return_counts=True)[1])\n",
    "    indices = np.arange(0, len(data_df))\n",
    "    train_indices, val_indices = train_test_split(indices, test_size=0.15, random_state=1007)\n",
    "    path = f'./embeddings/{model_name.split(\"/\")[-1].lower()}/{lang}/'\n",
    "    np.save(path + 'train_indices.npy', train_indices)\n",
    "    np.save(path + 'val_indices.npy', val_indices)\n",
    "    print('  val split')\n",
    "    for c in data_df.columns:\n",
    "        if c != 'id' and c != 'text':\n",
    "            print('\\t', c)\n",
    "            print('\\t', np.unique(data_df[c].to_numpy()[val_indices], return_counts=True)[1])"
   ]
  },
  {
   "cell_type": "code",
   "execution_count": null,
   "metadata": {},
   "outputs": [],
   "source": [
    "## QWEN\n",
    "# ENG - 25 min\n",
    "# DEU - 60 min\n",
    "# ESP - 10 min\n",
    "# RON - 15 min\n",
    "# UKR - 20 min\n",
    "# HIN - 45 min\n",
    "\n",
    "# 3h05 total"
   ]
  },
  {
   "cell_type": "code",
   "execution_count": null,
   "metadata": {},
   "outputs": [],
   "source": [
    "## lealla finetune time: 15 minutes\n",
    "## lealla all layer emb extraction and linear classifiers training - 15-20 minutes per language\n",
    "## "
   ]
  },
  {
   "cell_type": "code",
   "execution_count": null,
   "metadata": {},
   "outputs": [],
   "source": []
  }
 ],
 "metadata": {
  "kernelspec": {
   "display_name": "py311",
   "language": "python",
   "name": "python3"
  },
  "language_info": {
   "codemirror_mode": {
    "name": "ipython",
    "version": 3
   },
   "file_extension": ".py",
   "mimetype": "text/x-python",
   "name": "python",
   "nbconvert_exporter": "python",
   "pygments_lexer": "ipython3",
   "version": "3.11.4"
  }
 },
 "nbformat": 4,
 "nbformat_minor": 2
}
